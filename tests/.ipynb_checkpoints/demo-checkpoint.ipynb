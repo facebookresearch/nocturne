{
 "cells": [
  {
   "cell_type": "code",
   "execution_count": 14,
   "id": "42ffed86",
   "metadata": {},
   "outputs": [],
   "source": [
    "import numpy as np\n",
    "import matplotlib.pyplot as plt\n",
    "\n",
    "from nocturne import Simulation"
   ]
  },
  {
   "cell_type": "code",
   "execution_count": 15,
   "id": "a10e8452",
   "metadata": {},
   "outputs": [],
   "source": [
    "sim = Simulation(scenarioPath='../scenarios/intersection.json')\n",
    "scenario = sim.getScenario()"
   ]
  },
  {
   "cell_type": "code",
   "execution_count": 16,
   "id": "0b777ddc",
   "metadata": {},
   "outputs": [
    {
     "name": "stdout",
     "output_type": "stream",
     "text": [
      "[<nocturne.Object object at 0x7ffb8ed300f0>, <nocturne.Object object at 0x7ffb8ed4ae70>, <nocturne.Object object at 0x7ffb8f083ab0>, <nocturne.Object object at 0x7ffb8ed56270>, <nocturne.Object object at 0x7ffb8ed564f0>, <nocturne.Object object at 0x7ffb8f06e330>, <nocturne.Object object at 0x7ffb8f06e270>, <nocturne.Object object at 0x7ffb8f06e8b0>, <nocturne.Vehicle object at 0x7ffb8f06e570>]\n"
     ]
    }
   ],
   "source": [
    "objects = scenario.getRoadObjects()\n",
    "print(objects)\n",
    "\n",
    "veh = objects[-1]"
   ]
  },
  {
   "cell_type": "code",
   "execution_count": null,
   "id": "202c7773",
   "metadata": {},
   "outputs": [],
   "source": [
    "coneImages = []\n",
    "goalImages = []\n",
    "\n",
    "for _ in range(10):\n",
    "    coneImg = np.array(scenario.getCone(veh, 3.14/2.0, 0.0), copy=False)\n",
    "    coneImages.append(coneImg)\n",
    "    \n",
    "    goalImg = np.array(scenario.getGoalImage(veh), copy=False)\n",
    "    goalImages.append(goalImg)\n",
    "    \n",
    "    for _ in range(10):\n",
    "        sim.step(0.1)\n",
    "        \n",
    "    "
   ]
  },
  {
   "cell_type": "code",
   "execution_count": null,
   "id": "87509bd0",
   "metadata": {},
   "outputs": [],
   "source": []
  },
  {
   "cell_type": "code",
   "execution_count": null,
   "id": "c2d3d56e",
   "metadata": {},
   "outputs": [],
   "source": []
  },
  {
   "cell_type": "code",
   "execution_count": null,
   "id": "569cf9aa",
   "metadata": {},
   "outputs": [],
   "source": [
    "plt.figure()\n",
    "\n",
    "#subplot(r,c) provide the no. of rows and columns\n",
    "f, axarr = plt.subplots(4,1) \n",
    "\n",
    "# use the created array to output your multiple images. In this case I have stacked 4 images vertically\n",
    "axarr[0].imshow(v_slice[0])\n",
    "axarr[1].imshow(v_slice[1])\n",
    "axarr[2].imshow(v_slice[2])\n",
    "axarr[3].imshow(v_slice[3])"
   ]
  },
  {
   "cell_type": "code",
   "execution_count": 3,
   "id": "76139902",
   "metadata": {},
   "outputs": [
    {
     "name": "stdout",
     "output_type": "stream",
     "text": [
      "Resetting simulation.\n"
     ]
    }
   ],
   "source": [
    "for _ in range(100):\n",
    "    sim.step(0.1)\n",
    "    sim.render()\n",
    "sim.reset()"
   ]
  },
  {
   "cell_type": "code",
   "execution_count": null,
   "id": "6a1133ca",
   "metadata": {},
   "outputs": [],
   "source": [
    "sim.step(0.1)\n",
    "# while True:\n",
    "#     sim.step(0.01)\n",
    "#     sim.render()\n",
    "\n",
    "objects = scenario.getRoadObjects()\n",
    "print(objects)\n",
    "\n",
    "# for i, obj in enumerate(objects):\n",
    "#     cone = np.array(scenario.getCone(obj, 3.14/2.0, 0.0), copy=False)\n",
    "#     plt.figure()\n",
    "#     plt.imshow(cone)\n",
    "#     plt.savefig(f'{i}_.png')\n",
    "\n",
    "obj = objects[-1]\n",
    "img = np.array(scenario.getGoalImage(obj), copy=False)\n",
    "plt.figure()\n",
    "plt.imshow(img)\n",
    "plt.savefig('goalImg.png')\n",
    "print('saved at ./goalImg.png')\n",
    "\n",
    "# objects = sim.getRoadObjects()\n",
    "# print(objects)\n",
    "# print([obj.getWidth() for obj in objects])\n",
    "\n",
    "# arr = np.array(sim.getConePixels(), copy=False)\n",
    "# print(arr.shape, np.max(arr), np.min(arr), arr.dtype)\n",
    "\n",
    "# plt.figure()\n",
    "# plt.imshow(arr)\n",
    "# plt.show()"
   ]
  }
 ],
 "metadata": {
  "kernelspec": {
   "display_name": "Python 3 (ipykernel)",
   "language": "python",
   "name": "python3"
  },
  "language_info": {
   "codemirror_mode": {
    "name": "ipython",
    "version": 3
   },
   "file_extension": ".py",
   "mimetype": "text/x-python",
   "name": "python",
   "nbconvert_exporter": "python",
   "pygments_lexer": "ipython3",
   "version": "3.8.11"
  }
 },
 "nbformat": 4,
 "nbformat_minor": 5
}
